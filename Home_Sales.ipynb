{
  "cells": [
    {
      "cell_type": "code",
      "execution_count": 1,
      "metadata": {
        "colab": {
          "base_uri": "https://localhost:8080/"
        },
        "id": "a_KW73O2e3dw",
        "outputId": "67a50e42-342b-49b5-b59a-175dfdb21821"
      },
      "outputs": [
        {
          "output_type": "stream",
          "name": "stdout",
          "text": [
            "\r0% [Working]\r            \rHit:1 https://developer.download.nvidia.com/compute/cuda/repos/ubuntu2004/x86_64  InRelease\n",
            "Hit:2 https://cloud.r-project.org/bin/linux/ubuntu focal-cran40/ InRelease\n",
            "Hit:3 http://archive.ubuntu.com/ubuntu focal InRelease\n",
            "Get:4 http://security.ubuntu.com/ubuntu focal-security InRelease [114 kB]\n",
            "Hit:5 http://ppa.launchpad.net/c2d4u.team/c2d4u4.0+/ubuntu focal InRelease\n",
            "Hit:6 http://archive.ubuntu.com/ubuntu focal-updates InRelease\n",
            "Get:7 http://archive.ubuntu.com/ubuntu focal-backports InRelease [108 kB]\n",
            "Hit:8 http://ppa.launchpad.net/cran/libgit2/ubuntu focal InRelease\n",
            "Hit:9 http://ppa.launchpad.net/deadsnakes/ppa/ubuntu focal InRelease\n",
            "Hit:10 http://ppa.launchpad.net/graphics-drivers/ppa/ubuntu focal InRelease\n",
            "Hit:11 http://ppa.launchpad.net/ubuntugis/ppa/ubuntu focal InRelease\n",
            "Fetched 222 kB in 2s (139 kB/s)\n",
            "Reading package lists... Done\n"
          ]
        }
      ],
      "source": [
        "import os\n",
        "# Find the latest version of spark 3.x  from http://www.apache.org/dist/spark/ and enter as the spark version\n",
        "# For example:\n",
        "# spark_version = 'spark-3.3.1'\n",
        "spark_version = 'spark-3.4.0'\n",
        "os.environ['SPARK_VERSION']=spark_version\n",
        "\n",
        "# Install Spark and Java\n",
        "!apt-get update\n",
        "!apt-get install openjdk-11-jdk-headless -qq > /dev/null\n",
        "!wget -q http://www.apache.org/dist/spark/$SPARK_VERSION/$SPARK_VERSION-bin-hadoop3.tgz\n",
        "!tar xf $SPARK_VERSION-bin-hadoop3.tgz\n",
        "!pip install -q findspark\n",
        "\n",
        "# Set Environment Variables\n",
        "os.environ[\"JAVA_HOME\"] = \"/usr/lib/jvm/java-11-openjdk-amd64\"\n",
        "os.environ[\"SPARK_HOME\"] = f\"/content/{spark_version}-bin-hadoop3\"\n",
        "\n",
        "# Start a SparkSession\n",
        "import findspark\n",
        "findspark.init()\n",
        "\n",
        "\n"
      ]
    },
    {
      "cell_type": "markdown",
      "source": [],
      "metadata": {
        "id": "BNpodNdny2ru"
      }
    },
    {
      "cell_type": "code",
      "source": [
        "!java -version"
      ],
      "metadata": {
        "colab": {
          "base_uri": "https://localhost:8080/"
        },
        "id": "mc7p4UbT23SG",
        "outputId": "49ead35d-6581-4887-b8cd-22e365b7b4b8"
      },
      "execution_count": 2,
      "outputs": [
        {
          "output_type": "stream",
          "name": "stdout",
          "text": [
            "openjdk version \"11.0.19\" 2023-04-18\n",
            "OpenJDK Runtime Environment (build 11.0.19+7-post-Ubuntu-0ubuntu120.04.1)\n",
            "OpenJDK 64-Bit Server VM (build 11.0.19+7-post-Ubuntu-0ubuntu120.04.1, mixed mode, sharing)\n"
          ]
        }
      ]
    },
    {
      "cell_type": "code",
      "execution_count": 3,
      "metadata": {
        "id": "2XbWNf1Te5fM"
      },
      "outputs": [],
      "source": [
        "# Import packages\n",
        "from pyspark.sql import SparkSession\n",
        "import time\n",
        "\n",
        "# Create a SparkSession\n",
        "spark = SparkSession.builder.appName(\"SparkSQL\").getOrCreate()"
      ]
    },
    {
      "cell_type": "code",
      "execution_count": 4,
      "metadata": {
        "id": "wOJqxG_RPSwp"
      },
      "outputs": [],
      "source": [
        "# 1. Read in the AWS S3 bucket into a DataFrame.\n",
        "from pyspark import SparkFiles\n",
        "url = \"https://2u-data-curriculum-team.s3.amazonaws.com/dataviz-classroom/v1.2/22-big-data/home_sales_revised.csv\"\n",
        "spark.sparkContext.addFile(url)\n",
        "df = spark.read.csv(SparkFiles.get(\"home_sales_revised.csv\"), header=True, inferSchema=True)\n",
        "\n"
      ]
    },
    {
      "cell_type": "code",
      "execution_count": 5,
      "metadata": {
        "id": "RoljcJ7WPpnm"
      },
      "outputs": [],
      "source": [
        "# 2. Create a temporary view of the DataFrame.\n",
        "\n",
        "df.createOrReplaceTempView('home_sales')"
      ]
    },
    {
      "cell_type": "code",
      "execution_count": 6,
      "metadata": {
        "id": "L6fkwOeOmqvq",
        "colab": {
          "base_uri": "https://localhost:8080/"
        },
        "outputId": "d5285f24-0108-4f8f-b5cd-4b8a5953ad2f"
      },
      "outputs": [
        {
          "output_type": "stream",
          "name": "stdout",
          "text": [
            "+----+-------------+\n",
            "|YEAR|AVERAGE_PRICE|\n",
            "+----+-------------+\n",
            "|2022|    296363.88|\n",
            "|2021|    301819.44|\n",
            "|2020|    298353.78|\n",
            "|2019|     300263.7|\n",
            "+----+-------------+\n",
            "\n"
          ]
        }
      ],
      "source": [
        "# 3. What is the average price for a four bedroom house sold in each year rounded to two decimal places?\n",
        "\n",
        "a = \"\"\"\n",
        "SELECT\n",
        "  YEAR(date) AS YEAR,\n",
        "  ROUND(AVG(price), 2) AS AVERAGE_PRICE\n",
        "FROM home_sales\n",
        "WHERE bedrooms = 4\n",
        "GROUP BY YEAR\n",
        "ORDER BY YEAR DESC\n",
        "\"\"\"\n",
        "spark.sql(a).show()"
      ]
    },
    {
      "cell_type": "code",
      "execution_count": 7,
      "metadata": {
        "id": "l8p_tUS8h8it",
        "colab": {
          "base_uri": "https://localhost:8080/"
        },
        "outputId": "9205b8bd-7d18-4fe7-a32f-54dcf511e1d0"
      },
      "outputs": [
        {
          "output_type": "stream",
          "name": "stdout",
          "text": [
            "+----------+-------------+\n",
            "|YEAR BUILT|AVERAGE_PRICE|\n",
            "+----------+-------------+\n",
            "|      2017|    292676.79|\n",
            "|      2016|    290555.07|\n",
            "|      2015|     288770.3|\n",
            "|      2014|    290852.27|\n",
            "|      2013|    295962.27|\n",
            "|      2012|    293683.19|\n",
            "|      2011|    291117.47|\n",
            "|      2010|    292859.62|\n",
            "+----------+-------------+\n",
            "\n"
          ]
        }
      ],
      "source": [
        "# 4. What is the average price of a home for each year the home was built that have 3 bedrooms and 3 bathrooms rounded to two decimal places?\n",
        "b = \"\"\"\n",
        "SELECT\n",
        "  date_built AS `YEAR BUILT`,\n",
        "  ROUND(AVG(price), 2) AS AVERAGE_PRICE\n",
        "FROM home_sales\n",
        "WHERE bedrooms = 3 AND bathrooms = 3\n",
        "GROUP BY date_built\n",
        "ORDER BY date_built DESC\n",
        "\"\"\"\n",
        "spark.sql(b).show()\n",
        "\n",
        "\n"
      ]
    },
    {
      "cell_type": "code",
      "execution_count": 8,
      "metadata": {
        "id": "Y-Eytz64liDU",
        "colab": {
          "base_uri": "https://localhost:8080/"
        },
        "outputId": "62895cdf-847e-4067-e3ae-75fd6482969c"
      },
      "outputs": [
        {
          "output_type": "stream",
          "name": "stdout",
          "text": [
            "+----------+-------------+\n",
            "|YEAR BUILT|AVERAGE_PRICE|\n",
            "+----------+-------------+\n",
            "|      2017|    280317.58|\n",
            "|      2016|     293965.1|\n",
            "|      2015|    297609.97|\n",
            "|      2014|    298264.72|\n",
            "|      2013|    303676.79|\n",
            "|      2012|    307539.97|\n",
            "|      2011|    276553.81|\n",
            "|      2010|    285010.22|\n",
            "+----------+-------------+\n",
            "\n"
          ]
        }
      ],
      "source": [
        "# 5. What is the average price of a home for each year built that have 3 bedrooms, 3 bathrooms, with two floors,\n",
        "# and are greater than or equal to 2,000 square feet rounded to two decimal places?\n",
        "\n",
        "c = \"\"\"\n",
        "SELECT\n",
        "  date_built AS `YEAR BUILT`,\n",
        "  ROUND(AVG(price), 2) AS AVERAGE_PRICE\n",
        "FROM home_sales\n",
        "WHERE bedrooms = 3\n",
        "and bathrooms = 3\n",
        "and sqft_living >= 2000\n",
        "and floors = 2\n",
        "GROUP BY `YEAR BUILT`\n",
        "ORDER BY `YEAR BUILT` DESC\n",
        "\"\"\"\n",
        "spark.sql(c).show()\n"
      ]
    },
    {
      "cell_type": "code",
      "execution_count": 9,
      "metadata": {
        "colab": {
          "base_uri": "https://localhost:8080/"
        },
        "id": "GUrfgOX1pCRd",
        "outputId": "16342729-2843-43e5-db5e-c995cc613a7f"
      },
      "outputs": [
        {
          "output_type": "stream",
          "name": "stdout",
          "text": [
            "+----+-------------+\n",
            "|view|AVERAGE_PRICE|\n",
            "+----+-------------+\n",
            "| 100|    1026669.5|\n",
            "|  99|   1061201.42|\n",
            "|  98|   1053739.33|\n",
            "|  97|   1129040.15|\n",
            "|  96|   1017815.92|\n",
            "|  95|    1054325.6|\n",
            "|  94|    1033536.2|\n",
            "|  93|   1026006.06|\n",
            "|  92|    970402.55|\n",
            "|  91|   1137372.73|\n",
            "|  90|   1062654.16|\n",
            "|  89|   1107839.15|\n",
            "|  88|   1031719.35|\n",
            "|  87|    1072285.2|\n",
            "|  86|   1070444.25|\n",
            "|  85|   1056336.74|\n",
            "|  84|   1117233.13|\n",
            "|  83|   1033965.93|\n",
            "|  82|    1063498.0|\n",
            "|  81|   1053472.79|\n",
            "+----+-------------+\n",
            "only showing top 20 rows\n",
            "\n",
            "--- 0.8179166316986084 seconds ---\n"
          ]
        }
      ],
      "source": [
        "# 6. What is the \"view\" rating for the average price of a home, rounded to two decimal places, where the homes are greater than\n",
        "# or equal to $350,000? Although this is a small dataset, determine the run time for this query.\n",
        "\n",
        "start_time = time.time()\n",
        "d = \"\"\"\n",
        "SELECT\n",
        "  view, \n",
        "  ROUND(AVG(price), 2) AS AVERAGE_PRICE\n",
        "FROM home_sales\n",
        "GROUP BY view\n",
        "HAVING AVG(price) >= 350000\n",
        "ORDER BY view desc\n",
        "\"\"\"\n",
        "spark.sql(d).show()\n",
        "\n",
        "\n",
        "print(\"--- %s seconds ---\" % (time.time() - start_time))"
      ]
    },
    {
      "cell_type": "code",
      "execution_count": 10,
      "metadata": {
        "id": "KAhk3ZD2tFy8",
        "colab": {
          "base_uri": "https://localhost:8080/"
        },
        "outputId": "7ed62213-0964-4880-8c21-14eb5532d7ce"
      },
      "outputs": [
        {
          "output_type": "execute_result",
          "data": {
            "text/plain": [
              "DataFrame[]"
            ]
          },
          "metadata": {},
          "execution_count": 10
        }
      ],
      "source": [
        "# 7. Cache the the temporary table home_sales.\n",
        "spark.sql('cache table home_sales')"
      ]
    },
    {
      "cell_type": "code",
      "execution_count": 11,
      "metadata": {
        "id": "4opVhbvxtL-i",
        "colab": {
          "base_uri": "https://localhost:8080/"
        },
        "outputId": "5e80c6dd-685e-4e8c-eaab-f6a740be729a"
      },
      "outputs": [
        {
          "output_type": "execute_result",
          "data": {
            "text/plain": [
              "True"
            ]
          },
          "metadata": {},
          "execution_count": 11
        }
      ],
      "source": [
        "# 8. Check if the table is cached.\n",
        "spark.catalog.isCached('home_sales')"
      ]
    },
    {
      "cell_type": "code",
      "execution_count": null,
      "metadata": {
        "id": "5GnL46lwTSEk"
      },
      "outputs": [],
      "source": [
        "# 9. Using the cached data, run the query that filters out the view ratings with average price \n",
        "#  greater than or equal to $350,000. Determine the runtime and compare it to uncached runtime.\n",
        "\n",
        "start_time = time.time()\n",
        "\n",
        "e = \"\"\"\n",
        "SELECT\n",
        "  view,\n",
        "  ROUND(AVG(price), 2) AS AVERAGE_PRICE\n",
        "FROM home_sales\n",
        "GROUP BY view\n",
        "HAVING AVG(price) >= 350000\n",
        "ORDER BY view desc\n",
        "\"\"\"\n",
        "spark.sql(e).show()\n",
        "\n",
        "\n",
        "print(\"--- %s seconds ---\" % (time.time() - start_time))\n"
      ]
    },
    {
      "cell_type": "code",
      "execution_count": 13,
      "metadata": {
        "id": "Qm12WN9isHBR"
      },
      "outputs": [],
      "source": [
        "# 10. Partition by the \"date_built\" field on the formatted parquet home sales data \n",
        "df.write.partitionBy('date_built').parquet('p_home_sales',mode='overwrite')\n",
        "\n"
      ]
    },
    {
      "cell_type": "code",
      "execution_count": 14,
      "metadata": {
        "id": "AZ7BgY61sRqY",
        "colab": {
          "base_uri": "https://localhost:8080/"
        },
        "outputId": "15760a27-8efa-4828-d1fa-71d79a01683b"
      },
      "outputs": [
        {
          "output_type": "stream",
          "name": "stdout",
          "text": [
            "+--------------------+----------+------+--------+---------+-----------+--------+------+----------+----+----------+\n",
            "|                  id|      date| price|bedrooms|bathrooms|sqft_living|sqft_lot|floors|waterfront|view|date_built|\n",
            "+--------------------+----------+------+--------+---------+-----------+--------+------+----------+----+----------+\n",
            "|2ed8d509-7372-46d...|2021-08-06|258710|       3|        3|       1918|    9666|     1|         0|  25|      2015|\n",
            "|941bad30-eb49-4a7...|2020-05-09|229896|       3|        3|       2197|    8641|     1|         0|   3|      2015|\n",
            "|c797ca12-52cd-4b1...|2019-06-08|288650|       2|        3|       2100|   10419|     2|         0|   7|      2015|\n",
            "|0cfe57f3-28c2-472...|2019-10-04|308313|       3|        3|       1960|    9453|     2|         0|   2|      2015|\n",
            "|d715f295-2fbf-4e9...|2021-05-17|391574|       3|        2|       1635|    8040|     2|         0|  10|      2015|\n",
            "|a18515a2-86f3-46b...|2022-02-18|419543|       3|        2|       1642|   12826|     2|         0|  24|      2015|\n",
            "|98f6a9ad-8870-474...|2022-05-07|136752|       2|        3|       1701|   10771|     2|         0|   5|      2015|\n",
            "|7ac67498-b6f3-403...|2021-05-12|349318|       4|        3|       2417|   11304|     2|         0|  37|      2015|\n",
            "|c9bfdb1c-2499-4e3...|2021-12-07|268874|       2|        2|       1537|   12177|     1|         0|  10|      2015|\n",
            "|34c31a34-220d-469...|2019-02-06|409011|       3|        3|       2356|   10507|     1|         0|   1|      2015|\n",
            "|be0ccb95-415d-411...|2020-05-15|425154|       4|        3|       2120|   14229|     2|         0|   4|      2015|\n",
            "|e9031a86-1294-444...|2021-10-09|222322|       4|        3|       1928|   10510|     1|         0|  38|      2015|\n",
            "|e6d7c2a7-596e-4ec...|2019-03-15|131201|       4|        3|       1633|   14655|     1|         0|  22|      2015|\n",
            "|6683714b-3df7-454...|2022-02-01|333403|       4|        2|       2059|    9793|     2|         0|   4|      2015|\n",
            "|00fc996f-508c-430...|2021-07-15|373139|       3|        3|       1763|   11363|     1|         0|  39|      2015|\n",
            "|3d5545f8-bd3b-476...|2020-09-19|797862|       4|        6|       3494|   10385|     2|         0|  90|      2015|\n",
            "|ec6d357c-2435-43e...|2019-05-28|401792|       3|        2|       1627|   10765|     1|         0|  50|      2015|\n",
            "|c2be38fb-814a-403...|2020-03-20|352237|       3|        3|       2485|   10954|     2|         0|   6|      2015|\n",
            "|9570de1f-5a74-45b...|2021-11-29|298453|       3|        2|       2222|   10634|     1|         0|   6|      2015|\n",
            "|1baeff4f-fc00-489...|2020-12-17|152775|       3|        2|       1623|   13851|     1|         0|  41|      2015|\n",
            "+--------------------+----------+------+--------+---------+-----------+--------+------+----------+----+----------+\n",
            "only showing top 20 rows\n",
            "\n"
          ]
        }
      ],
      "source": [
        "# 11. Read the parquet formatted data.\n",
        "p_homes_df = spark.read.parquet('p_home_sales')\n",
        "p_homes_df.show()"
      ]
    },
    {
      "cell_type": "code",
      "execution_count": 15,
      "metadata": {
        "id": "J6MJkHfvVcvh",
        "colab": {
          "base_uri": "https://localhost:8080/"
        },
        "outputId": "3ad59e25-2fd8-45e5-cd99-6699f9b0089e"
      },
      "outputs": [
        {
          "output_type": "execute_result",
          "data": {
            "text/plain": [
              "DataFrame[]"
            ]
          },
          "metadata": {},
          "execution_count": 15
        }
      ],
      "source": [
        "# 12. Create a temporary table for the parquet data.\n",
        "spark.sql('uncache table home_sales')"
      ]
    },
    {
      "cell_type": "code",
      "execution_count": 16,
      "metadata": {
        "colab": {
          "base_uri": "https://localhost:8080/"
        },
        "id": "G_Vhb52rU1Sn",
        "outputId": "7e5c4b14-63e8-4d26-dd6b-16b1ef19b972"
      },
      "outputs": [
        {
          "output_type": "stream",
          "name": "stdout",
          "text": [
            "+----+-------------+\n",
            "|view|AVERAGE_PRICE|\n",
            "+----+-------------+\n",
            "| 100|    1026669.5|\n",
            "|  99|   1061201.42|\n",
            "|  98|   1053739.33|\n",
            "|  97|   1129040.15|\n",
            "|  96|   1017815.92|\n",
            "|  95|    1054325.6|\n",
            "|  94|    1033536.2|\n",
            "|  93|   1026006.06|\n",
            "|  92|    970402.55|\n",
            "|  91|   1137372.73|\n",
            "|  90|   1062654.16|\n",
            "|  89|   1107839.15|\n",
            "|  88|   1031719.35|\n",
            "|  87|    1072285.2|\n",
            "|  86|   1070444.25|\n",
            "|  85|   1056336.74|\n",
            "|  84|   1117233.13|\n",
            "|  83|   1033965.93|\n",
            "|  82|    1063498.0|\n",
            "|  81|   1053472.79|\n",
            "+----+-------------+\n",
            "only showing top 20 rows\n",
            "\n",
            "--- 0.5336670875549316 seconds ---\n"
          ]
        }
      ],
      "source": [
        "# 13. Run the query that filters out the view ratings with average price of greater than or equal to $350,000 \n",
        "# with the parquet DataFrame. Round your average to two decimal places. \n",
        "# Determine the runtime and compare it to the cached version.\n",
        "\n",
        "start_time = time.time()\n",
        "e = \"\"\"\n",
        "SELECT\n",
        "  view,\n",
        "  ROUND(AVG(price), 2) AS AVERAGE_PRICE\n",
        "FROM home_sales\n",
        "GROUP BY view\n",
        "HAVING AVG(price) >= 350000\n",
        "ORDER BY view desc\n",
        "\"\"\"\n",
        "spark.sql(e).show()\n",
        "\n",
        "\n",
        "print(\"--- %s seconds ---\" % (time.time() - start_time))"
      ]
    },
    {
      "cell_type": "code",
      "execution_count": 17,
      "metadata": {
        "id": "hjjYzQGjtbq8",
        "colab": {
          "base_uri": "https://localhost:8080/"
        },
        "outputId": "ecac4177-3bc3-4366-bb9e-239effd36f6a"
      },
      "outputs": [
        {
          "output_type": "execute_result",
          "data": {
            "text/plain": [
              "DataFrame[]"
            ]
          },
          "metadata": {},
          "execution_count": 17
        }
      ],
      "source": [
        "# 14. Uncache the home_sales temporary table.\n",
        "spark.sql('uncache table home_sales')"
      ]
    },
    {
      "cell_type": "code",
      "execution_count": 18,
      "metadata": {
        "id": "Sy9NBvO7tlmm",
        "colab": {
          "base_uri": "https://localhost:8080/"
        },
        "outputId": "628033a1-b83d-4e41-eef2-39014a7fbfe5"
      },
      "outputs": [
        {
          "output_type": "stream",
          "name": "stdout",
          "text": [
            "not cached\n"
          ]
        }
      ],
      "source": [
        "# 15. Check if the home_sales is no longer cached\n",
        "if spark.catalog.isCached('home_sales'):\n",
        "  print('home_sales is cached')\n",
        "else:\n",
        "  print('not cached')\n"
      ]
    },
    {
      "cell_type": "code",
      "execution_count": 72,
      "metadata": {
        "id": "Si-BNruRUGK3"
      },
      "outputs": [],
      "source": []
    }
  ],
  "metadata": {
    "colab": {
      "provenance": []
    },
    "gpuClass": "standard",
    "kernelspec": {
      "display_name": "Python 3 (ipykernel)",
      "language": "python",
      "name": "python3"
    },
    "language_info": {
      "codemirror_mode": {
        "name": "ipython",
        "version": 3
      },
      "file_extension": ".py",
      "mimetype": "text/x-python",
      "name": "python",
      "nbconvert_exporter": "python",
      "pygments_lexer": "ipython3",
      "version": "3.10.4"
    },
    "nteract": {
      "version": "0.28.0"
    }
  },
  "nbformat": 4,
  "nbformat_minor": 0
}